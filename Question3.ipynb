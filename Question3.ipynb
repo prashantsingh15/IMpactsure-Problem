{
 "cells": [
  {
   "cell_type": "code",
   "execution_count": null,
   "metadata": {},
   "outputs": [],
   "source": [
    "! pip install Office365-REST-Python-Client\n"
   ]
  },
  {
   "cell_type": "code",
   "execution_count": null,
   "metadata": {},
   "outputs": [],
   "source": [
    "from office365.runtime.auth.client_credential import ClientCredential\n",
    "from office365.sharepoint.client_context import ClientContext\n",
    "import os\n",
    "\n",
    "def upload_file_to_sharepoint(site_url, client_id, client_secret, folder_url, file_path):\n",
    "   \n",
    "    ctx = ClientContext(site_url).with_credentials(ClientCredential(client_id, client_secret))\n",
    "    target_folder = ctx.web.get_folder_by_server_relative_url(folder_url)\n",
    "    with open(file_path, 'rb') as file_content:\n",
    "        file_name = os.path.basename(file_path)\n",
    "        target_folder.upload_file(file_name, file_content).execute_query()\n",
    "    \n",
    "    print(f\"File '{file_name}' uploaded successfully to '{folder_url}'\")\n",
    "\n",
    "def main():\n",
    "    site_url = 'your url here'\n",
    "    client_id = 'your-client-id'\n",
    "    client_secret = 'your-client-secret'\n",
    "    folder_url = '/sites/your-site-name/Shared Documents/your-folder-name'\n",
    "    file_path = 'path file in txt format'\n",
    "    \n",
    "    upload_file_to_sharepoint(site_url, client_id, client_secret, folder_url, file_path)\n",
    "\n",
    "if __name__ == \"__main__\":\n",
    "    main()\n"
   ]
  }
 ],
 "metadata": {
  "kernelspec": {
   "display_name": "proversion",
   "language": "python",
   "name": "python3"
  },
  "language_info": {
   "codemirror_mode": {
    "name": "ipython",
    "version": 3
   },
   "file_extension": ".py",
   "mimetype": "text/x-python",
   "name": "python",
   "nbconvert_exporter": "python",
   "pygments_lexer": "ipython3",
   "version": "3.9.19"
  }
 },
 "nbformat": 4,
 "nbformat_minor": 2
}
