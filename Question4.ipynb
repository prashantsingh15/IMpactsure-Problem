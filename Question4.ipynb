{
 "cells": [
  {
   "cell_type": "code",
   "execution_count": null,
   "metadata": {},
   "outputs": [],
   "source": [
    "import sqlite3\n",
    "import os\n",
    "\n",
    "def update_salaries(database_path):\n",
    " \n",
    "    database_dir = os.path.dirname(database_path)\n",
    "    if database_dir and not os.path.exists(database_dir):\n",
    "        os.makedirs(database_dir, exist_ok=True)\n",
    "    \n",
    "   \n",
    "    conn = sqlite3.connect(database_path)\n",
    "    cursor = conn.cursor()\n",
    "    \n",
    "    update_query = \"\"\"\n",
    "    UPDATE employees\n",
    "    SET salary = salary + 10000\n",
    "    WHERE department IN ('Management', 'IT') AND experience > 5;\n",
    "    \"\"\"\n",
    "    \n",
    "   \n",
    "    cursor.execute(update_query)\n",
    "    conn.commit()\n",
    "    \n",
    "   \n",
    "    rows_updated = cursor.rowcount\n",
    "    print(f\"{rows_updated} rows updated.\")\n",
    "    conn.close()\n",
    "\n",
    "def main():\n",
    "    database_path = os.path.abspath('path/to/your/database.db') \n",
    "    update_salaries(database_path)\n",
    "\n",
    "if __name__ == \"__main__\":\n",
    "    main()\n"
   ]
  },
  {
   "cell_type": "code",
   "execution_count": null,
   "metadata": {},
   "outputs": [],
   "source": []
  }
 ],
 "metadata": {
  "kernelspec": {
   "display_name": "proversion",
   "language": "python",
   "name": "python3"
  },
  "language_info": {
   "codemirror_mode": {
    "name": "ipython",
    "version": 3
   },
   "file_extension": ".py",
   "mimetype": "text/x-python",
   "name": "python",
   "nbconvert_exporter": "python",
   "pygments_lexer": "ipython3",
   "version": "3.11.5"
  }
 },
 "nbformat": 4,
 "nbformat_minor": 2
}
