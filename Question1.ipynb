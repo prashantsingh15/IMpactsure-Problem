{
 "cells": [
  {
   "cell_type": "code",
   "execution_count": 6,
   "metadata": {},
   "outputs": [
    {
     "name": "stdout",
     "output_type": "stream",
     "text": [
      "[('b', 1), ('c', 2), ('a', 3), ('d', 4)]\n"
     ]
    }
   ],
   "source": [
    "def sort_dict_by_value(d):\n",
    "\n",
    "  return sorted(d.items(), key=lambda item: item[1])\n",
    "my_dict = {'a': 3, 'b': 1, 'c': 2, 'd': 4}\n",
    "sorted_dict = sort_dict_by_value(my_dict)\n",
    "print(sorted_dict)  \n"
   ]
  }
 ],
 "metadata": {
  "kernelspec": {
   "display_name": "proversion",
   "language": "python",
   "name": "python3"
  },
  "language_info": {
   "codemirror_mode": {
    "name": "ipython",
    "version": 3
   },
   "file_extension": ".py",
   "mimetype": "text/x-python",
   "name": "python",
   "nbconvert_exporter": "python",
   "pygments_lexer": "ipython3",
   "version": "3.9.19"
  }
 },
 "nbformat": 4,
 "nbformat_minor": 2
}
