{
 "cells": [
  {
   "cell_type": "code",
   "execution_count": 6,
   "metadata": {},
   "outputs": [
    {
     "name": "stdout",
     "output_type": "stream",
     "text": [
      "Extracted to: C:\\Extracted\\sample-zip-file\n"
     ]
    }
   ],
   "source": [
    "import os\n",
    "import requests\n",
    "from zipfile import ZipFile\n",
    "from io import BytesIO\n",
    "\n",
    "def download_file(url, download_folder):\n",
    "    local_filename = url.split('/')[-1]\n",
    "    local_path = os.path.join(download_folder, local_filename)\n",
    "    with requests.get(url, stream=True) as r:\n",
    "        r.raise_for_status()\n",
    "        with open(local_path, 'wb') as f:\n",
    "            for chunk in r.iter_content(chunk_size=8192):\n",
    "                f.write(chunk)\n",
    "    \n",
    "    return local_path\n",
    "\n",
    "def extract_zip(file_path, extract_folder):\n",
    "    with ZipFile(file_path, 'r') as zip_ref:\n",
    "        extract_path = os.path.join(extract_folder, os.path.splitext(os.path.basename(file_path))[0])\n",
    "        os.makedirs(extract_path, exist_ok=True)\n",
    "        zip_ref.extractall(extract_path)\n",
    "    return extract_path\n",
    "def main():\n",
    "    url = 'https://www.learningcontainer.com/wp-content/uploads/2020/05/sample-zip-file.zip'  \n",
    "    download_folder = 'C:\\\\Downloaded'\n",
    "    extract_folder = 'C:\\\\Extracted'\n",
    "    \n",
    "    os.makedirs(download_folder, exist_ok=True)\n",
    "    os.makedirs(extract_folder, exist_ok=True)\n",
    "    \n",
    "    downloaded_file = download_file(url, download_folder)\n",
    "    \n",
    "    if downloaded_file.endswith('.zip'):\n",
    "        extracted_path = extract_zip(downloaded_file, extract_folder)\n",
    "        print(f'Extracted to: {extracted_path}')\n",
    "    else:\n",
    "        print(f'Downloaded file is not a zip file: {downloaded_file}')\n",
    "\n",
    "if __name__ == \"__main__\":\n",
    "    main()\n"
   ]
  }
 ],
 "metadata": {
  "kernelspec": {
   "display_name": "proversion",
   "language": "python",
   "name": "python3"
  },
  "language_info": {
   "codemirror_mode": {
    "name": "ipython",
    "version": 3
   },
   "file_extension": ".py",
   "mimetype": "text/x-python",
   "name": "python",
   "nbconvert_exporter": "python",
   "pygments_lexer": "ipython3",
   "version": "3.9.19"
  }
 },
 "nbformat": 4,
 "nbformat_minor": 2
}
